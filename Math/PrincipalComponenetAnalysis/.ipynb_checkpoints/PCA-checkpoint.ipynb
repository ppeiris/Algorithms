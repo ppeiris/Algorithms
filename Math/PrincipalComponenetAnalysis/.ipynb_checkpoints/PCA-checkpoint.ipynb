{
 "cells": [
  {
   "cell_type": "markdown",
   "metadata": {},
   "source": [
    "# Principal Component Analysis (PCA)"
   ]
  },
  {
   "cell_type": "markdown",
   "metadata": {},
   "source": [
    "Principle Component Analysis (PCA) is a standard tool in modern data analysis. PCA Provides a roadmap for how to reduce a complex data set to a lower dimension to reveal the sometimes hidden, simplified structures that often underline it. The goal of this posting is to provide some intuitive understanding of PCA via some coding examples. To understand what's happening behind the scene (mathematics) you need to have a sound knowledge of linear algebra (matrix algebra).\n",
    "\n",
    "# Reading\n",
    "\n",
    "There are plenty of literature out there on PCA, among all I found following paper and the video is well written and explain all the nuance in PCA.\n",
    "\n",
    "Paper: https://arxiv.org/pdf/1404.1100.pdf\n",
    "\n",
    "Lecture: [video](https://www.youtube.com/watch?v=a9jdQGybYmE \"link title\")"
   ]
  },
  {
   "cell_type": "code",
   "execution_count": 8,
   "metadata": {
    "collapsed": true
   },
   "outputs": [],
   "source": [
    "import pandas as pd\n",
    "import numpy as np\n",
    "import numpy as np\n",
    "from sklearn.decomposition import PCA\n",
    "from IPython.display import display, HTML\n",
    "from sympy import init_printing, Matrix, symbols, sqrt\n",
    "init_printing(use_latex = 'mathjax')"
   ]
  },
  {
   "cell_type": "markdown",
   "metadata": {},
   "source": [
    "## Load Data\n",
    "The data is taken from the Places Rated Almanac, by Richard Boyer and David Savageau, copyrighted and published by Rand McNally. The nine rating criteria used by Places Rated Almanac are:\n",
    "\n",
    "- Climate & Terrain\n",
    "- Housing\n",
    "- Health Care & Environment\n",
    "- Crime\n",
    "- Transportation\n",
    "- Education\n",
    "- The Arts\n",
    "- Recreation\n",
    "- Economics"
   ]
  },
  {
   "cell_type": "code",
   "execution_count": 9,
   "metadata": {
    "collapsed": false
   },
   "outputs": [
    {
     "name": "stdout",
     "output_type": "stream",
     "text": [
      "329\n"
     ]
    },
    {
     "data": {
      "text/html": [
       "<div>\n",
       "<table border=\"1\" class=\"dataframe\">\n",
       "  <thead>\n",
       "    <tr style=\"text-align: right;\">\n",
       "      <th></th>\n",
       "      <th>location</th>\n",
       "      <th>$x_1$</th>\n",
       "      <th>$x_2$</th>\n",
       "      <th>$x_3$</th>\n",
       "      <th>$x_4$</th>\n",
       "      <th>$x_5$</th>\n",
       "      <th>$x_6$</th>\n",
       "      <th>$x_7$</th>\n",
       "      <th>$x_8$</th>\n",
       "      <th>$x_9$</th>\n",
       "    </tr>\n",
       "  </thead>\n",
       "  <tbody>\n",
       "    <tr>\n",
       "      <th>0</th>\n",
       "      <td>Abilene,TX</td>\n",
       "      <td>2.716838</td>\n",
       "      <td>3.792392</td>\n",
       "      <td>2.374748</td>\n",
       "      <td>2.965202</td>\n",
       "      <td>3.605413</td>\n",
       "      <td>3.440437</td>\n",
       "      <td>2.998259</td>\n",
       "      <td>3.147676</td>\n",
       "      <td>3.882695</td>\n",
       "    </tr>\n",
       "    <tr>\n",
       "      <th>1</th>\n",
       "      <td>Akron,OH</td>\n",
       "      <td>2.759668</td>\n",
       "      <td>3.910518</td>\n",
       "      <td>3.219060</td>\n",
       "      <td>2.947434</td>\n",
       "      <td>3.688687</td>\n",
       "      <td>3.387034</td>\n",
       "      <td>3.745387</td>\n",
       "      <td>3.420286</td>\n",
       "      <td>3.638489</td>\n",
       "    </tr>\n",
       "    <tr>\n",
       "      <th>2</th>\n",
       "      <td>Albany,GA</td>\n",
       "      <td>2.670246</td>\n",
       "      <td>3.865637</td>\n",
       "      <td>2.790988</td>\n",
       "      <td>2.986772</td>\n",
       "      <td>3.403292</td>\n",
       "      <td>3.408240</td>\n",
       "      <td>2.374748</td>\n",
       "      <td>2.933993</td>\n",
       "      <td>3.720159</td>\n",
       "    </tr>\n",
       "    <tr>\n",
       "      <th>3</th>\n",
       "      <td>Albany-Schenectady-Troy,NY</td>\n",
       "      <td>2.677607</td>\n",
       "      <td>3.898067</td>\n",
       "      <td>3.155640</td>\n",
       "      <td>2.785330</td>\n",
       "      <td>3.837778</td>\n",
       "      <td>3.531351</td>\n",
       "      <td>3.667920</td>\n",
       "      <td>3.208710</td>\n",
       "      <td>3.768194</td>\n",
       "    </tr>\n",
       "    <tr>\n",
       "      <th>4</th>\n",
       "      <td>Albuquerque,NM</td>\n",
       "      <td>2.818885</td>\n",
       "      <td>3.923917</td>\n",
       "      <td>3.267875</td>\n",
       "      <td>3.171141</td>\n",
       "      <td>3.816771</td>\n",
       "      <td>3.480869</td>\n",
       "      <td>3.652826</td>\n",
       "      <td>3.416973</td>\n",
       "      <td>3.757927</td>\n",
       "    </tr>\n",
       "  </tbody>\n",
       "</table>\n",
       "</div>"
      ],
      "text/plain": [
       "                     location     $x_1$     $x_2$     $x_3$     $x_4$  \\\n",
       "0                  Abilene,TX  2.716838  3.792392  2.374748  2.965202   \n",
       "1                    Akron,OH  2.759668  3.910518  3.219060  2.947434   \n",
       "2                   Albany,GA  2.670246  3.865637  2.790988  2.986772   \n",
       "3  Albany-Schenectady-Troy,NY  2.677607  3.898067  3.155640  2.785330   \n",
       "4              Albuquerque,NM  2.818885  3.923917  3.267875  3.171141   \n",
       "\n",
       "      $x_5$     $x_6$     $x_7$     $x_8$     $x_9$  \n",
       "0  3.605413  3.440437  2.998259  3.147676  3.882695  \n",
       "1  3.688687  3.387034  3.745387  3.420286  3.638489  \n",
       "2  3.403292  3.408240  2.374748  2.933993  3.720159  \n",
       "3  3.837778  3.531351  3.667920  3.208710  3.768194  \n",
       "4  3.816771  3.480869  3.652826  3.416973  3.757927  "
      ]
     },
     "execution_count": 9,
     "metadata": {},
     "output_type": "execute_result"
    }
   ],
   "source": [
    "data = pd.read_csv('places.csv')\n",
    "data = data[[\n",
    "            'location',\n",
    "            'climate_log10',\n",
    "            'housing_log10',\n",
    "            'health_log10',\n",
    "            'crime_log10',\n",
    "            'transportation_log10',\n",
    "            'education_log10',\n",
    "            'arts_log10',\n",
    "            'recreation_log10',\n",
    "            'economy_log10'\n",
    "        ]]\n",
    "\n",
    "data = data.rename(columns={\n",
    "            'climate_log10': '$x_1$',\n",
    "            'housing_log10': '$x_2$',\n",
    "            'health_log10': '$x_3$',\n",
    "            'crime_log10': '$x_4$',\n",
    "            'transportation_log10': '$x_5$',\n",
    "            'education_log10': '$x_6$',\n",
    "            'arts_log10': '$x_7$',\n",
    "            'recreation_log10': '$x_8$',\n",
    "            'economy_log10': '$x_9$'\n",
    "    })\n",
    "print(len(data))\n",
    "data.head()"
   ]
  },
  {
   "cell_type": "markdown",
   "metadata": {},
   "source": [
    "# Naive Basis\n",
    "\n",
    "Each sample (row) $\\vec{X}$ is a $m=9$ dimentional vector, each dimention is a some measurement of the location. There are 329 vectors in the dataset. Since each vector is a $m$ dimentional, the vector lies in an $m$-dimentional vector space span by some orthonormal basis. Lets say the basis are $[b_1...b_9]^T$\n",
    "\n",
    "Now we can write a vector $\\vec{X} =b_1x_1 + b_2x_2 + b_3x_3 + b_4x_4 + b_5x_5 + b_6x_6 + b_7x_7 + b_8x_8 + b_9x_9$\n",
    "\n",
    "\n",
    "we can write the basis as $m\\times m$ metrix $B$. We could use any orthonormal basis, but the naive choice would be identity matrix. $B$ is call the **naive basis** (naive basis reflects the method we gathered the data) \n"
   ]
  },
  {
   "cell_type": "code",
   "execution_count": 20,
   "metadata": {
    "collapsed": false,
    "scrolled": false
   },
   "outputs": [],
   "source": [
    "B = Matrix([[1, 0, 0, 0, 0, 0, 0, 0, 0],[0, 1, 0, 0, 0, 0, 0, 0, 0], [0, 0, 1, 0, 0, 0, 0, 0, 0],[0,0, 0, 1, 0, 0, 0, 0, 0],[0,0, 0, 0, 1, 0, 0, 0, 0],[0,0, 0, 0, 0, 1, 0, 0, 0],[0,0, 0, 0, 0, 0, 1, 0, 0],[0,0, 0, 0, 0, 0, 0, 1, 0],[0,0, 0, 0, 0, 0, 0, 0, 1]])\n",
    "# display(B)"
   ]
  },
  {
   "cell_type": "markdown",
   "metadata": {},
   "source": [
    "$$ B = \\begin{bmatrix} b_1 \\\\ b_2 \\\\ b_3 \\\\ b_4 \\\\ b_5 \\\\ b_6 \\\\ b_7 \\\\ b_8 \\\\ b_9 \\end{bmatrix} = \\begin{bmatrix} 1 & 0 & 0 & 0 & 0 & 0 & 0 & 0 & 0 \\\\ 0 & 1 & 0 & 0 & 0 & 0 & 0 & 0 & 0 \\\\ 0 & 0 & 1 & 0 & 0 & 0 & 0 & 0 & 0 \\\\ 0 &0 & 0 & 1 & 0 & 0 & 0 & 0 & 0 \\\\ 0 &0 & 0 & 0 & 1 & 0 & 0 & 0 & 0 \\\\ 0 &0 & 0 & 0 & 0 & 1 & 0 & 0 & 0 \\\\ 0 &0 & 0 & 0 & 0 & 0 & 1 & 0 & 0 \\\\ 0 &0 & 0 & 0 & 0 & 0 & 0 & 1 & 0 \\\\ 0 &0 & 0 & 0 & 0 & 0 & 0 & 0 & 1 \\end{bmatrix} = I$$"
   ]
  },
  {
   "cell_type": "markdown",
   "metadata": {
    "collapsed": true
   },
   "source": [
    "# Change of Basis"
   ]
  },
  {
   "cell_type": "code",
   "execution_count": null,
   "metadata": {
    "collapsed": true
   },
   "outputs": [],
   "source": []
  },
  {
   "cell_type": "code",
   "execution_count": null,
   "metadata": {
    "collapsed": true
   },
   "outputs": [],
   "source": []
  },
  {
   "cell_type": "code",
   "execution_count": null,
   "metadata": {
    "collapsed": true
   },
   "outputs": [],
   "source": []
  },
  {
   "cell_type": "markdown",
   "metadata": {},
   "source": [
    "_Question_: **Is there another basis, which is a linear combination of orthogonal basis, that best re-express the data set?**\n",
    "\n",
    "$X$ is a $m\\times n$ (9 columns, 329 rows) matrix. We can do a linear transformation (rotation and stretch) on this dataset and generate a new matrix. Let us call this new matrix $Y$. In other words $P$ matrix transform $X$ to $Y$. Geometrical interpretation of $P$ is a rotation and a stretch of $X$ to obtain $Y$. The rows if the $P$ matrix is the new basis vectors that express the columns of $X$.\n",
    "\n",
    "$$PX=Y$$\n",
    "\n",
    "- $P$ -Linear Transformation\n",
    "- $X$ -Original Data\n",
    "- $Y$ -Transformed Data\n",
    "\n",
    "\n",
    " Vectors in $P$ is the **Principal Components** of $X$. There are infinite numbers of $P$ exits. In other words, we can take the original data set $X$ and rotate and stretch in any number of ways you can imagine. Among these combinations, we can pick a one of them and for us to choose one transformation we can ask very fundamental questions\n",
    " \n",
    " - What is the best way to re-express the original data set $X$ ?\n",
    " - What is a good choise of basis of $P$\n",
    " \n",
    " \n",
    " \n"
   ]
  },
  {
   "cell_type": "code",
   "execution_count": null,
   "metadata": {
    "collapsed": true
   },
   "outputs": [],
   "source": []
  }
 ],
 "metadata": {
  "kernelspec": {
   "display_name": "Python 2",
   "language": "python",
   "name": "python2"
  },
  "language_info": {
   "codemirror_mode": {
    "name": "ipython",
    "version": 2
   },
   "file_extension": ".py",
   "mimetype": "text/x-python",
   "name": "python",
   "nbconvert_exporter": "python",
   "pygments_lexer": "ipython2",
   "version": "2.7.13"
  }
 },
 "nbformat": 4,
 "nbformat_minor": 0
}
