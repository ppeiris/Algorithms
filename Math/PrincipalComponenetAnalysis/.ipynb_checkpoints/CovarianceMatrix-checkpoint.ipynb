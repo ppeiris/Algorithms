{
 "cells": [
  {
   "cell_type": "code",
   "execution_count": 227,
   "metadata": {
    "collapsed": true
   },
   "outputs": [],
   "source": [
    "import pandas as pd\n",
    "import numpy as np\n",
    "import numpy as np\n",
    "from IPython.display import display, HTML, Math\n",
    "from sympy import init_printing, Matrix, symbols, sqrt\n",
    "init_printing(use_latex = 'mathjax')"
   ]
  },
  {
   "cell_type": "markdown",
   "metadata": {},
   "source": [
    "# Variance ($\\sigma^{2}$)\n",
    "\n",
    "Variance is the average squared deviation from the mean. This measure of the variability of spread in a set of data.\n",
    "\n",
    "\n",
    "$$\\sigma^{2}(x) = \\frac{\\Sigma{(x_{i} - \\bar{x})^2}}{N}$$\n",
    "\n",
    "\n",
    "- $N$ - Number of observations \n",
    "- $\\bar{x}$ - mean of the given variable\n",
    "- $x_{i}$ - $i^{th}$ row variable\n",
    "\n",
    "\n"
   ]
  },
  {
   "cell_type": "markdown",
   "metadata": {},
   "source": [
    "### Example data\n",
    "\n",
    "Let us assume there is an experiment (observing stars in a galaxy, running an experiment in the lab or watching the stock market). Each observation measures some parameters. In the case of observing stars, we can record its Mass, Radius, Flux, and distance. Experiments in the lab could be a chemical reaction that has its temperature, reaction rate, color changes ... etc. Watching the stock market records high value, low value, buying price, selling price ...etc. We can pick any number of parameters, and that depends on the experiment and also what quantities we are interested in. For the practical purposes, let us assume all the parameters are recorded as floating point numbers.\n",
    "\n",
    "We can store these observations in matrix (table format)"
   ]
  },
  {
   "cell_type": "code",
   "execution_count": 228,
   "metadata": {
    "collapsed": false
   },
   "outputs": [],
   "source": [
    "# random normal values\n",
    "d1 = np.random.randn(3)\n",
    "d2 = np.random.randn(3)\n",
    "d3 = np.random.randn(3)\n",
    "d4 = np.random.randn(3)\n",
    "d5 = np.random.randn(3)\n",
    "\n",
    "Observations = pd.DataFrame(\n",
    "    [d1, d2, d3, d4, d5],\n",
    "    index = [\n",
    "        'Observation_1', \n",
    "        'Observation_2', \n",
    "        'Observation_3',\n",
    "        'Observation_4',\n",
    "        'Observation_5'\n",
    "    ],\n",
    "    columns={\n",
    "        'parameter_1', \n",
    "        'parameter_2', \n",
    "        'parameter_3'\n",
    "    }\n",
    ")"
   ]
  },
  {
   "cell_type": "markdown",
   "metadata": {},
   "source": [
    "Above code snippet generates some random values and put them into a data frame. In this dataset, we have three different **observations (row)**, and each observation records three separate **parameters (columns)**. "
   ]
  },
  {
   "cell_type": "markdown",
   "metadata": {
    "collapsed": false,
    "variables": {
     "Observations": "<div>\n<table border=\"1\" class=\"dataframe\">\n  <thead>\n    <tr style=\"text-align: right;\">\n      <th></th>\n      <th>parameter_3</th>\n      <th>parameter_2</th>\n      <th>parameter_1</th>\n    </tr>\n  </thead>\n  <tbody>\n    <tr>\n      <th>Observation_1</th>\n      <td>-0.843939</td>\n      <td>-0.036536</td>\n      <td>1.676821</td>\n    </tr>\n    <tr>\n      <th>Observation_2</th>\n      <td>0.349457</td>\n      <td>-0.628947</td>\n      <td>0.264265</td>\n    </tr>\n    <tr>\n      <th>Observation_3</th>\n      <td>-1.325687</td>\n      <td>-0.489180</td>\n      <td>-1.448217</td>\n    </tr>\n    <tr>\n      <th>Observation_4</th>\n      <td>2.305130</td>\n      <td>1.367896</td>\n      <td>0.430927</td>\n    </tr>\n    <tr>\n      <th>Observation_5</th>\n      <td>-0.078568</td>\n      <td>0.150325</td>\n      <td>1.250698</td>\n    </tr>\n  </tbody>\n</table>\n</div>"
    }
   },
   "source": [
    "{{Observations}}"
   ]
  },
  {
   "cell_type": "markdown",
   "metadata": {},
   "source": [
    "### Deviation Scores ($x_{i} - \\bar{x}$)\n",
    "How to center. Centered independent variables are obtained just by subtracting the mean of the variable. Centering data is important because that makes interpretation os parameter estimators easier.\n",
    "\n",
    "\n",
    "We have 3 parameters in the above dataset, and we have 3 observations. We need to center all three parameters in this data set. Will take a look at how to center **parameter_1** in details \n",
    "\n",
    "**Centering paramter_1**\n",
    "\n",
    "- **Step 1**: Calculate the mean value of the **parameter_1 **\n",
    "\n",
    "$$\\mu_{parameter\\_1} = \\frac{1}{3}\\Big(\\sum^{3}_{observation=1}{\\big(parameter\\_1_{observation}\\big)}\\Big)$$"
   ]
  },
  {
   "cell_type": "code",
   "execution_count": 229,
   "metadata": {
    "collapsed": false
   },
   "outputs": [],
   "source": [
    "mu_parameter_1 = Observations[['parameter_1']].mean()"
   ]
  },
  {
   "cell_type": "markdown",
   "metadata": {
    "variables": {
     "(Observations[['parameter_1']])": "<div>\n<table border=\"1\" class=\"dataframe\">\n  <thead>\n    <tr style=\"text-align: right;\">\n      <th></th>\n      <th>parameter_1</th>\n    </tr>\n  </thead>\n  <tbody>\n    <tr>\n      <th>Observation_1</th>\n      <td>1.676821</td>\n    </tr>\n    <tr>\n      <th>Observation_2</th>\n      <td>0.264265</td>\n    </tr>\n    <tr>\n      <th>Observation_3</th>\n      <td>-1.448217</td>\n    </tr>\n    <tr>\n      <th>Observation_4</th>\n      <td>0.430927</td>\n    </tr>\n    <tr>\n      <th>Observation_5</th>\n      <td>1.250698</td>\n    </tr>\n  </tbody>\n</table>\n</div>",
     "Observations[['parameter_1']] - mu_parameter_1": "<div>\n<table border=\"1\" class=\"dataframe\">\n  <thead>\n    <tr style=\"text-align: right;\">\n      <th></th>\n      <th>parameter_1</th>\n    </tr>\n  </thead>\n  <tbody>\n    <tr>\n      <th>Observation_1</th>\n      <td>1.241922</td>\n    </tr>\n    <tr>\n      <th>Observation_2</th>\n      <td>-0.170634</td>\n    </tr>\n    <tr>\n      <th>Observation_3</th>\n      <td>-1.883116</td>\n    </tr>\n    <tr>\n      <th>Observation_4</th>\n      <td>-0.003972</td>\n    </tr>\n    <tr>\n      <th>Observation_5</th>\n      <td>0.815799</td>\n    </tr>\n  </tbody>\n</table>\n</div>",
     "mu_parameter_1['parameter_1']": "$$0.434899028944$$"
    }
   },
   "source": [
    "- **Step 2**: Remove the mean value from the **parameter_1** values\n",
    "    - Raw Data\n",
    "    {{(Observations[['parameter_1']])}}\n",
    "    - **parameter_1**  mean {{mu_parameter_1['parameter_1']}}\n",
    "    - centred Data\n",
    "    {{Observations[['parameter_1']] - mu_parameter_1}}"
   ]
  },
  {
   "cell_type": "markdown",
   "metadata": {},
   "source": [
    "### Use Matrix Algebra \n",
    "\n",
    "Calculating deviation scores and centering all the parameters can be done using linear algebra matrix manipulations. This is a very handy way to manipulate large amount of data.\n",
    "\n",
    "\n",
    "- Let us assume the raw data is in the Matrix $X$. Each row is an observation, and each column is a parameter.\n",
    "\n",
    "\n",
    "$$X = \n",
    "\\begin{bmatrix}\n",
    "\\vec{x}_{1} \\\\\n",
    "\\vec{x}_{2} \\\\\n",
    ". \\\\\n",
    "\\vec{x}_{m}\n",
    "\\end{bmatrix} = \n",
    "\\begin{bmatrix} \n",
    "x_{11} & x_{12} & ... & x_{1n} \\\\ \n",
    "x_{21} & x_{22} & ... & x_{2n} \\\\\n",
    ". & . & ... & . \\\\\n",
    "x_{m1} & x_{m2} & ... & x_{mn} \\\\\n",
    "\\end{bmatrix}_{m\\times n}$$\n",
    " \n",
    " \n",
    "- Define a column vector of ones \n",
    "\n",
    "$$L = \n",
    "\\begin{bmatrix}\n",
    "1 \\\\\n",
    "1 \\\\\n",
    ". \\\\\n",
    "1\n",
    "\\end{bmatrix}_{m\\times 1}$$\n",
    "\n",
    "- Build a square matrix of ones \n",
    "\n",
    "$$LL^{T} = \\begin{bmatrix}\n",
    "1 \\\\\n",
    "1 \\\\\n",
    ". \\\\\n",
    "1\n",
    "\\end{bmatrix}\n",
    "\\begin{bmatrix}\n",
    "1 & 1 & . & 1 \\\\\n",
    "\\end{bmatrix} = \\begin{bmatrix} \n",
    "1 & 1 & ... & 1 \\\\ \n",
    "1 & 1 & ... & 1 \\\\\n",
    ". & . & ... & . \\\\\n",
    "1 & 1 & ... & 1 \\\\\n",
    " \\end{bmatrix}_{m\\times m}$$\n"
   ]
  },
  {
   "cell_type": "markdown",
   "metadata": {},
   "source": [
    " - Transform the raw scores from matrix $X$ into deviation scores for matrix $D$.\n",
    " \n",
    " $$D = X-\\frac{1}{m}(LL^{T})X$$\n",
    " \n",
    " $$D = \n",
    "\\begin{bmatrix} \n",
    "x_{11} & x_{12} & ... & x_{1n} \\\\ \n",
    "x_{21} & x_{22} & ... & x_{2n} \\\\\n",
    ". & . & ... & . \\\\\n",
    "x_{m1} & x_{m2} & ... & x_{mn} \\\\\n",
    "\\end{bmatrix}_{m\\times n} - \\frac{1}{m}\\begin{bmatrix} \n",
    "1 & 1 & ... & 1 \\\\ \n",
    "1 & 1 & ... & 1 \\\\\n",
    ". & . & ... & . \\\\\n",
    "1 & 1 & ... & 1 \\\\\n",
    " \\end{bmatrix}_{m\\times m}\\begin{bmatrix} \n",
    "x_{11} & x_{12} & ... & x_{1n} \\\\ \n",
    "x_{21} & x_{22} & ... & x_{2n} \\\\\n",
    ". & . & ... & . \\\\\n",
    "x_{m1} & x_{m2} & ... & x_{mn} \\\\\n",
    "\\end{bmatrix}_{m\\times n}$$\n",
    " "
   ]
  },
  {
   "cell_type": "markdown",
   "metadata": {},
   "source": [
    "$$D = \n",
    "\\begin{bmatrix} \n",
    "x_{11} & x_{12} & ... & x_{1n} \\\\ \n",
    "x_{21} & x_{22} & ... & x_{2n} \\\\\n",
    ". & . & ... & . \\\\\n",
    "x_{m1} & x_{m2} & ... & x_{mn} \\\\\n",
    "\\end{bmatrix}_{m\\times n} -\n",
    "\\begin{bmatrix} \n",
    "\\frac{1}{m}\\sum_{i=1}^{m}x_{i1} & \\frac{1}{m}\\sum_{i=1}^{m}x_{i2} & ... & \\frac{1}{m}\\sum_{i=1}^{m}x_{in} \\\\ \n",
    "\\frac{1}{m}\\sum_{i=1}^{m}x_{i1} & \\frac{1}{m}\\sum_{i=1}^{m}x_{i2} & ... & \\frac{1}{m}\\sum_{i=1}^{m}x_{in} \\\\ \n",
    ". & . & ... & . \\\\\n",
    "\\frac{1}{m}\\sum_{i=1}^{m}x_{i1} & \\frac{1}{m}\\sum_{i=1}^{m}x_{i2} & ... & \\frac{1}{m}\\sum_{i=1}^{m}x_{in} \\\\ \n",
    "\\end{bmatrix}_{m\\times n}$$"
   ]
  },
  {
   "cell_type": "markdown",
   "metadata": {},
   "source": [
    "$$D = \n",
    "\\begin{bmatrix} \n",
    "x_{11} & x_{12} & ... & x_{1n} \\\\ \n",
    "x_{21} & x_{22} & ... & x_{2n} \\\\\n",
    ". & . & ... & . \\\\\n",
    "x_{m1} & x_{m2} & ... & x_{mn} \\\\\n",
    "\\end{bmatrix}_{m\\times n} -\n",
    "\\begin{bmatrix} \n",
    "\\mu_{param_1} & \\mu_{param_2} & ... & \\mu_{param_n} \\\\ \n",
    "\\mu_{param_1} & \\mu_{param_2} & ... & \\mu_{param_n} \\\\ \n",
    ". & . & ... & . \\\\\n",
    "\\mu_{param_1} & \\mu_{param_2} & ... & \\mu_{param_n} \\\\ \n",
    "\\end{bmatrix}_{m\\times n}$$\n"
   ]
  },
  {
   "cell_type": "markdown",
   "metadata": {},
   "source": [
    "$$D = \\begin{bmatrix} \n",
    "(x_{11} - \\mu_{param_1}) & (x_{12} - \\mu_{param_2}) & ... & (x_{1n} - \\mu_{param_n})\\\\ \n",
    "(x_{21} - \\mu_{param_1}) & (x_{22} - \\mu_{param_2}) & ... & (x_{2n} - \\mu_{param_n})\\\\\n",
    ". & . & ... & . \\\\\n",
    "(x_{m1} - \\mu_{param_1}) & (x_{m2} - \\mu_{param_2}) & ... & (x_{mn} - \\mu_{param_n})\\\\\n",
    "\\end{bmatrix}_{m\\times n}$$"
   ]
  },
  {
   "cell_type": "markdown",
   "metadata": {},
   "source": [
    "- Centerd data\n",
    "$$D = \n",
    "\\begin{bmatrix} \n",
    "d_{11} & d_{12} & ... & d_{1n} \\\\ \n",
    "d_{21} & d_{22} & ... & d_{2n} \\\\\n",
    ". & . & ... & . \\\\\n",
    "d_{m1} & d_{m2} & ... & d_{mn} \\\\\n",
    "\\end{bmatrix}_{m\\times n}$$\n",
    "\n"
   ]
  },
  {
   "cell_type": "markdown",
   "metadata": {},
   "source": [
    "### Center Example data "
   ]
  },
  {
   "cell_type": "markdown",
   "metadata": {
    "variables": {
     "Observations": "<div>\n<table border=\"1\" class=\"dataframe\">\n  <thead>\n    <tr style=\"text-align: right;\">\n      <th></th>\n      <th>parameter_3</th>\n      <th>parameter_2</th>\n      <th>parameter_1</th>\n    </tr>\n  </thead>\n  <tbody>\n    <tr>\n      <th>Observation_1</th>\n      <td>-0.843939</td>\n      <td>-0.036536</td>\n      <td>1.676821</td>\n    </tr>\n    <tr>\n      <th>Observation_2</th>\n      <td>0.349457</td>\n      <td>-0.628947</td>\n      <td>0.264265</td>\n    </tr>\n    <tr>\n      <th>Observation_3</th>\n      <td>-1.325687</td>\n      <td>-0.489180</td>\n      <td>-1.448217</td>\n    </tr>\n    <tr>\n      <th>Observation_4</th>\n      <td>2.305130</td>\n      <td>1.367896</td>\n      <td>0.430927</td>\n    </tr>\n    <tr>\n      <th>Observation_5</th>\n      <td>-0.078568</td>\n      <td>0.150325</td>\n      <td>1.250698</td>\n    </tr>\n  </tbody>\n</table>\n</div>"
    }
   },
   "source": [
    "- Raw Data\n",
    "{{Observations}}\n",
    "- Centering data"
   ]
  },
  {
   "cell_type": "code",
   "execution_count": 230,
   "metadata": {
    "collapsed": false
   },
   "outputs": [],
   "source": [
    "ObsCenterd = Observations - Observations.mean(axis=0)"
   ]
  },
  {
   "cell_type": "markdown",
   "metadata": {
    "variables": {
     "ObsCenterd": "<div>\n<table border=\"1\" class=\"dataframe\">\n  <thead>\n    <tr style=\"text-align: right;\">\n      <th></th>\n      <th>parameter_3</th>\n      <th>parameter_2</th>\n      <th>parameter_1</th>\n    </tr>\n  </thead>\n  <tbody>\n    <tr>\n      <th>Observation_1</th>\n      <td>-0.925218</td>\n      <td>-0.109248</td>\n      <td>1.241922</td>\n    </tr>\n    <tr>\n      <th>Observation_2</th>\n      <td>0.268178</td>\n      <td>-0.701659</td>\n      <td>-0.170634</td>\n    </tr>\n    <tr>\n      <th>Observation_3</th>\n      <td>-1.406965</td>\n      <td>-0.561892</td>\n      <td>-1.883116</td>\n    </tr>\n    <tr>\n      <th>Observation_4</th>\n      <td>2.223851</td>\n      <td>1.295185</td>\n      <td>-0.003972</td>\n    </tr>\n    <tr>\n      <th>Observation_5</th>\n      <td>-0.159846</td>\n      <td>0.077614</td>\n      <td>0.815799</td>\n    </tr>\n  </tbody>\n</table>\n</div>"
    }
   },
   "source": [
    "{{ObsCenterd}}"
   ]
  },
  {
   "cell_type": "markdown",
   "metadata": {},
   "source": [
    "# Covariance Matrix\n",
    "\n",
    "**Covariance** is a measure of the extent to which corresponding elements from two sets of ordered data move in the same direction. $X$ and $Y$ are two vectors.\n",
    " $$V = \\sigma^{2}_{XY} = \\frac{1}{N-1}\\sum(X_i - \\bar{X})(Y_i-\\bar{Y})$$\n",
    " \n",
    " Dividing by N-1 give us the unbiased estimator [read more](https://en.wikipedia.org/wiki/Unbiased_estimation_of_standard_deviation)"
   ]
  },
  {
   "cell_type": "markdown",
   "metadata": {},
   "source": [
    "$$V = \\frac{1}{m-1}D^{T}D$$"
   ]
  },
  {
   "cell_type": "markdown",
   "metadata": {},
   "source": [
    "$$V = \\frac{1}{m-1}\n",
    "\\begin{bmatrix} \n",
    "d_{11} & d_{21} & ... & d_{m1} \\\\\n",
    "d_{12} & d_{22} & ... & d_{m2} \\\\\n",
    ". \t   & \t.\t& ... &\t. \\\\\n",
    "d_{1n} & d_{2n} & ... & d_{mn} \\\\\n",
    "\\end{bmatrix}_{n\\times m} \\times\n",
    "\\begin{bmatrix} \n",
    "d_{11} & d_{12} & ... & d_{1n} \\\\ \n",
    "d_{21} & d_{22} & ... & d_{2n} \\\\\n",
    ". & . & ... & . \\\\\n",
    "d_{m1} & d_{m2} & ... & d_{mn} \\\\\n",
    "\\end{bmatrix}_{m\\times n}\n",
    "$$\n",
    "\n",
    "\n"
   ]
  },
  {
   "cell_type": "markdown",
   "metadata": {},
   "source": [
    "$$V = \n",
    "\\begin{bmatrix} \n",
    "\\frac{1}{m-1}\\sum_{i=1}^{m-1}d^{2}_{i1} & \\frac{1}{m-1}\\sum_{i=1}^{m-1}d_{i1}d_{i2} & ... & \\frac{1}{m-1}\\sum_{i=1}^{m-1}d_{i1}d_{in} \\\\ \n",
    "\\frac{1}{m-1}\\sum_{i=1}^{m-1}d_{i2}d_{i1} & \\frac{1}{m-1}\\sum_{i=1}^{m-1}d^{2}_{i2} & ... & \\frac{1}{m-1}\\sum_{i=1}^{m-1}d_{i2}d_{in} \\\\ \n",
    ". & . & ... & . \\\\\n",
    "\\frac{1}{m-1}\\sum_{i=1}^{m-1}d_{in}d_{i1} & \\frac{1}{m-1}\\sum_{i=1}^{m-1}d_{in}d_{i2} & ... & \\frac{1}{m-1}\\sum_{i=1}^{m-1}d^{2}_{nn} \\\\ \n",
    "\\end{bmatrix}_{n\\times n}$$\n"
   ]
  },
  {
   "cell_type": "markdown",
   "metadata": {},
   "source": [
    "$$V = \n",
    "\\begin{bmatrix} \n",
    "\\sigma^{2}_{d_{i1}d_{i1}} & \\sigma^{2}_{d_{i1}d_{i2}} & ... & \\sigma^{2}_{d_{i1}d_{in}} \\\\ \n",
    "\\sigma^{2}_{d_{i2}d_{i1}} & \\sigma^{2}_{d_{i2}d_{i2}} & ... & \\sigma^{2}_{d_{i2}d_{in}} \\\\ \n",
    ". & . & ... & . \\\\\n",
    "\\sigma^{2}_{d_{in}d_{i1}} & \\sigma^{2}_{d_{in}d_{i2}} & ... & \\sigma^{2}_{d_{nn}d_{nn}} \\\\ \n",
    "\\end{bmatrix}_{n\\times n}$$"
   ]
  },
  {
   "cell_type": "markdown",
   "metadata": {},
   "source": [
    "\n",
    "\n",
    "The **covariance** measures the degree of the linear relationship between two variables.\n",
    "\n",
    "- $\\sigma^2_{XY} >> 0$, A and B are positively correlated\n",
    "- $\\sigma^2_{XY} = 0$, A and B are NOT correlated \n",
    "- $\\sigma^2_{XY} << 0$, A and B are negatively correlated\n",
    "- $|\\sigma^2_{XY}|$, Absolute magnitude of the covariance measure the degree of redundancy\n",
    "- $\\sigma^2_{XY} = \\sigma^2_{X}$ if $X=Y$\n"
   ]
  },
  {
   "cell_type": "markdown",
   "metadata": {},
   "source": [
    "The $ij^{th}$ element in the $V$ ($V_{X_{ij}}$) is the dot product between the vector $i^{th}$ parameter with the vector of the $j^{th}$ parameter. \n",
    "\n",
    "- $V$ is a square symmetric $n\\times n$ matrix \n",
    "- The diagonal terms of $V$ are the **variance** of particular observations types\n",
    "- The off-diagonal terms of $V$ are the **covariance** between observation types \n",
    "\n",
    "\n",
    "\n",
    "$V$ capture all the covariance among all the possible parameters in observations. The covariance values reflect the noise and redundancy in the parameters.\n",
    "\n",
    "- Diagonal terms, by assumption, large values correspond to an interesting structure.\n",
    "- Off-diagonal terms large magnitudes correspond to high redundancy \n",
    "\n",
    "\n",
    "Let us assume we can manipulate this covariance matrix. If you can do that, what features we want to optimize ? (Will cover this in another post)\n"
   ]
  },
  {
   "cell_type": "markdown",
   "metadata": {},
   "source": [
    "### Covariance Matrix with Example data "
   ]
  },
  {
   "cell_type": "markdown",
   "metadata": {
    "variables": {
     "ObsCenterd.T": "<div>\n<table border=\"1\" class=\"dataframe\">\n  <thead>\n    <tr style=\"text-align: right;\">\n      <th></th>\n      <th>Observation_1</th>\n      <th>Observation_2</th>\n      <th>Observation_3</th>\n      <th>Observation_4</th>\n      <th>Observation_5</th>\n    </tr>\n  </thead>\n  <tbody>\n    <tr>\n      <th>parameter_3</th>\n      <td>-0.925218</td>\n      <td>0.268178</td>\n      <td>-1.406965</td>\n      <td>2.223851</td>\n      <td>-0.159846</td>\n    </tr>\n    <tr>\n      <th>parameter_2</th>\n      <td>-0.109248</td>\n      <td>-0.701659</td>\n      <td>-0.561892</td>\n      <td>1.295185</td>\n      <td>0.077614</td>\n    </tr>\n    <tr>\n      <th>parameter_1</th>\n      <td>1.241922</td>\n      <td>-0.170634</td>\n      <td>-1.883116</td>\n      <td>-0.003972</td>\n      <td>0.815799</td>\n    </tr>\n  </tbody>\n</table>\n</div>"
    }
   },
   "source": [
    "$D^{T}$ = {{ObsCenterd.T}}"
   ]
  },
  {
   "cell_type": "markdown",
   "metadata": {
    "variables": {
     "ObsCenterd": "<div>\n<table border=\"1\" class=\"dataframe\">\n  <thead>\n    <tr style=\"text-align: right;\">\n      <th></th>\n      <th>parameter_3</th>\n      <th>parameter_2</th>\n      <th>parameter_1</th>\n    </tr>\n  </thead>\n  <tbody>\n    <tr>\n      <th>Observation_1</th>\n      <td>-0.925218</td>\n      <td>-0.109248</td>\n      <td>1.241922</td>\n    </tr>\n    <tr>\n      <th>Observation_2</th>\n      <td>0.268178</td>\n      <td>-0.701659</td>\n      <td>-0.170634</td>\n    </tr>\n    <tr>\n      <th>Observation_3</th>\n      <td>-1.406965</td>\n      <td>-0.561892</td>\n      <td>-1.883116</td>\n    </tr>\n    <tr>\n      <th>Observation_4</th>\n      <td>2.223851</td>\n      <td>1.295185</td>\n      <td>-0.003972</td>\n    </tr>\n    <tr>\n      <th>Observation_5</th>\n      <td>-0.159846</td>\n      <td>0.077614</td>\n      <td>0.815799</td>\n    </tr>\n  </tbody>\n</table>\n</div>"
    }
   },
   "source": [
    "$D$ = {{ObsCenterd}}"
   ]
  },
  {
   "cell_type": "code",
   "execution_count": 231,
   "metadata": {
    "collapsed": false
   },
   "outputs": [],
   "source": [
    "# http://pandas.pydata.org/pandas-docs/stable/generated/pandas.DataFrame.dot.html\n",
    "DtD = ObsCenterd.T.dot(ObsCenterd)/(len(ObsCenterd) - 1)"
   ]
  },
  {
   "cell_type": "markdown",
   "metadata": {
    "variables": {
     "DtD": "<div>\n<table border=\"1\" class=\"dataframe\">\n  <thead>\n    <tr style=\"text-align: right;\">\n      <th></th>\n      <th>parameter_3</th>\n      <th>parameter_2</th>\n      <th>parameter_1</th>\n    </tr>\n  </thead>\n  <tbody>\n    <tr>\n      <th>parameter_3</th>\n      <td>1.969641</td>\n      <td>0.892841</td>\n      <td>0.328858</td>\n    </tr>\n    <tr>\n      <th>parameter_2</th>\n      <td>0.892841</td>\n      <td>0.625878</td>\n      <td>0.275082</td>\n    </tr>\n    <tr>\n      <th>parameter_1</th>\n      <td>0.328858</td>\n      <td>0.275082</td>\n      <td>1.445789</td>\n    </tr>\n  </tbody>\n</table>\n</div>"
    }
   },
   "source": [
    "$V = \\frac{1}{n-1}D^{T}D$\n",
    "{{DtD}}"
   ]
  },
  {
   "cell_type": "markdown",
   "metadata": {},
   "source": [
    "# Calculate Covariance Matrix directly from the data frame \n"
   ]
  },
  {
   "cell_type": "code",
   "execution_count": 232,
   "metadata": {
    "collapsed": false
   },
   "outputs": [],
   "source": [
    "covDf = ObsCenterd.cov()"
   ]
  },
  {
   "cell_type": "markdown",
   "metadata": {
    "variables": {
     "covDf": "<div>\n<table border=\"1\" class=\"dataframe\">\n  <thead>\n    <tr style=\"text-align: right;\">\n      <th></th>\n      <th>parameter_3</th>\n      <th>parameter_2</th>\n      <th>parameter_1</th>\n    </tr>\n  </thead>\n  <tbody>\n    <tr>\n      <th>parameter_3</th>\n      <td>1.969641</td>\n      <td>0.892841</td>\n      <td>0.328858</td>\n    </tr>\n    <tr>\n      <th>parameter_2</th>\n      <td>0.892841</td>\n      <td>0.625878</td>\n      <td>0.275082</td>\n    </tr>\n    <tr>\n      <th>parameter_1</th>\n      <td>0.328858</td>\n      <td>0.275082</td>\n      <td>1.445789</td>\n    </tr>\n  </tbody>\n</table>\n</div>"
    }
   },
   "source": [
    "{{covDf}}"
   ]
  },
  {
   "cell_type": "markdown",
   "metadata": {},
   "source": [
    "# Calculate Covariance Matrix using numpy arrays"
   ]
  },
  {
   "cell_type": "markdown",
   "metadata": {},
   "source": [
    "It is important to arrange the data (observations) in the proper format before calcaulte the covariance matrix. Arrange all the vectors (observations) as column vectors: each **column represent an observation and row represent parameters**. "
   ]
  },
  {
   "cell_type": "code",
   "execution_count": 233,
   "metadata": {
    "collapsed": false
   },
   "outputs": [
    {
     "data": {
      "text/plain": [
       "array([[-0.84393945,  0.34945711, -1.32568652,  2.30512988, -0.0785676 ],\n",
       "       [-0.03653621, -0.62894742, -0.48918021,  1.36789637,  0.15032504],\n",
       "       [ 1.67682082,  0.26426531, -1.44821653,  0.43092719,  1.25069837]])"
      ]
     },
     "execution_count": 233,
     "metadata": {},
     "output_type": "execute_result"
    }
   ],
   "source": [
    "P = np.column_stack([d1, d2, d3, d4, d5])\n",
    "P"
   ]
  },
  {
   "cell_type": "code",
   "execution_count": 235,
   "metadata": {
    "collapsed": false
   },
   "outputs": [
    {
     "data": {
      "text/plain": [
       "array([[ 1.96964108,  0.89284061,  0.32885849],\n",
       "       [ 0.89284061,  0.62587758,  0.27508235],\n",
       "       [ 0.32885849,  0.27508235,  1.44578854]])"
      ]
     },
     "execution_count": 235,
     "metadata": {},
     "output_type": "execute_result"
    }
   ],
   "source": [
    "np.cov(P)"
   ]
  }
 ],
 "metadata": {
  "kernelspec": {
   "display_name": "Python 2",
   "language": "python",
   "name": "python2"
  },
  "language_info": {
   "codemirror_mode": {
    "name": "ipython",
    "version": 2
   },
   "file_extension": ".py",
   "mimetype": "text/x-python",
   "name": "python",
   "nbconvert_exporter": "python",
   "pygments_lexer": "ipython2",
   "version": "2.7.13"
  }
 },
 "nbformat": 4,
 "nbformat_minor": 0
}
